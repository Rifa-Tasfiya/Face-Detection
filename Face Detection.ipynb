{
 "cells": [
  {
   "cell_type": "code",
   "execution_count": 2,
   "id": "d4927d11-a6da-4156-a281-a30280e58074",
   "metadata": {},
   "outputs": [],
   "source": [
    "import cv2"
   ]
  },
  {
   "cell_type": "code",
   "execution_count": 4,
   "id": "20dabfb4-cc9d-40d8-bd8e-0c3dd8fb2936",
   "metadata": {},
   "outputs": [],
   "source": [
    "# Load the pre-trained classifier for face detection\n",
    "face_cap = cv2.CascadeClassifier(\"C:/Users/NIMO/AppData/Roaming/Python/Python311/site-packages/cv2/data/haarcascade_frontalface_default.xml\")\n",
    "\n",
    "# Capture video from the default camera\n",
    "video_cap = cv2.VideoCapture(0)\n",
    "\n",
    "while True:\n",
    "    # Read a frame from the video capture\n",
    "    ret, video_data = video_cap.read()\n",
    "    \n",
    "    # Convert the frame to grayscale\n",
    "    col = cv2.cvtColor(video_data, cv2.COLOR_BGR2GRAY)\n",
    "    \n",
    "    # Detect faces in the frame\n",
    "    faces = face_cap.detectMultiScale(\n",
    "        col,\n",
    "        scaleFactor=1.1,\n",
    "        minNeighbors=5,\n",
    "        minSize=(30, 30),\n",
    "        flags=cv2.CASCADE_SCALE_IMAGE\n",
    "    )\n",
    "    \n",
    "    # Draw rectangles around the detected faces\n",
    "    for (x, y, w, h) in faces:\n",
    "        cv2.rectangle(video_data, (x, y), (x + w, y + h), (0, 255, 0), 2)\n",
    "    \n",
    "    # Display the frame with the detected faces\n",
    "    cv2.imshow(\"video_live\", video_data)\n",
    "    \n",
    "    # Exit the loop when the 'a' key is pressed\n",
    "    if cv2.waitKey(10) == ord(\"a\"):\n",
    "        break\n",
    "\n",
    "# Release the video capture object\n",
    "video_cap.release()\n",
    "cv2.destroyAllWindows()"
   ]
  }
 ],
 "metadata": {
  "kernelspec": {
   "display_name": "Python 3 (ipykernel)",
   "language": "python",
   "name": "python3"
  },
  "language_info": {
   "codemirror_mode": {
    "name": "ipython",
    "version": 3
   },
   "file_extension": ".py",
   "mimetype": "text/x-python",
   "name": "python",
   "nbconvert_exporter": "python",
   "pygments_lexer": "ipython3",
   "version": "3.11.7"
  }
 },
 "nbformat": 4,
 "nbformat_minor": 5
}
